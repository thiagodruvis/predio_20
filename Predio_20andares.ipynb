{
  "nbformat": 4,
  "nbformat_minor": 0,
  "metadata": {
    "colab": {
      "provenance": [],
      "authorship_tag": "ABX9TyPp5L0ejyxjN0ZKrNow50d/",
      "include_colab_link": true
    },
    "kernelspec": {
      "name": "python3",
      "display_name": "Python 3"
    },
    "language_info": {
      "name": "python"
    }
  },
  "cells": [
    {
      "cell_type": "markdown",
      "metadata": {
        "id": "view-in-github",
        "colab_type": "text"
      },
      "source": [
        "<a href=\"https://colab.research.google.com/github/thiagodruvis/predio_20/blob/main/Predio_20andares.ipynb\" target=\"_parent\"><img src=\"https://colab.research.google.com/assets/colab-badge.svg\" alt=\"Open In Colab\"/></a>"
      ]
    },
    {
      "cell_type": "code",
      "source": [
        "## Precisamos imprimir um número para cada andar de um hotel de 20 andares.\n",
        "## Porém, o dono do hotel é supersticioso e optou por não ter um 13ro andar.\n",
        "## Escreva um código que imprima todos os números exceto o número 13\n",
        "\n",
        "for andar in range(1, 21):\n",
        "    if andar == 13:\n",
        "        continue  # Pula o andar 13\n",
        "    print(andar)\n"
      ],
      "metadata": {
        "colab": {
          "base_uri": "https://localhost:8080/"
        },
        "id": "HZGnOz7_QAN-",
        "outputId": "deb84cb8-04d0-4bf8-b8b2-0528ec3babfe"
      },
      "execution_count": 6,
      "outputs": [
        {
          "output_type": "stream",
          "name": "stdout",
          "text": [
            "1\n",
            "2\n",
            "3\n",
            "4\n",
            "5\n",
            "6\n",
            "7\n",
            "8\n",
            "9\n",
            "10\n",
            "11\n",
            "12\n",
            "14\n",
            "15\n",
            "16\n",
            "17\n",
            "18\n",
            "19\n",
            "20\n"
          ]
        }
      ]
    },
    {
      "cell_type": "code",
      "source": [
        "#Escreva mais dois códigos que resolvam o mesmo problema,\n",
        "# mas dessa vez usando os outros dois tipos de laços de repetição aprendidos.\n",
        "\n",
        "andar = 1\n",
        "while andar <= 20:\n",
        "    if andar == 13:\n",
        "        andar += 1\n",
        "        continue\n",
        "    print(andar)\n",
        "    andar += 1\n"
      ],
      "metadata": {
        "colab": {
          "base_uri": "https://localhost:8080/"
        },
        "id": "gmg3eABSQAJc",
        "outputId": "37d69cb1-ef4a-46dc-962c-abfd53aa1d3e"
      },
      "execution_count": 7,
      "outputs": [
        {
          "output_type": "stream",
          "name": "stdout",
          "text": [
            "1\n",
            "2\n",
            "3\n",
            "4\n",
            "5\n",
            "6\n",
            "7\n",
            "8\n",
            "9\n",
            "10\n",
            "11\n",
            "12\n",
            "14\n",
            "15\n",
            "16\n",
            "17\n",
            "18\n",
            "19\n",
            "20\n"
          ]
        }
      ]
    },
    {
      "cell_type": "code",
      "source": [
        "#Como desafio, imprima eles em ordem decrescente (20, 19, 18...)\n",
        "\n",
        "for andar in range(20, 0, -1):\n",
        "    print(andar)\n"
      ],
      "metadata": {
        "colab": {
          "base_uri": "https://localhost:8080/"
        },
        "id": "1M-kqYshQADh",
        "outputId": "5f03a686-91f7-4964-db72-37574565fe36"
      },
      "execution_count": 8,
      "outputs": [
        {
          "output_type": "stream",
          "name": "stdout",
          "text": [
            "20\n",
            "19\n",
            "18\n",
            "17\n",
            "16\n",
            "15\n",
            "14\n",
            "13\n",
            "12\n",
            "11\n",
            "10\n",
            "9\n",
            "8\n",
            "7\n",
            "6\n",
            "5\n",
            "4\n",
            "3\n",
            "2\n",
            "1\n"
          ]
        }
      ]
    },
    {
      "cell_type": "code",
      "source": [],
      "metadata": {
        "id": "cxBe1A1aP_lZ"
      },
      "execution_count": null,
      "outputs": []
    }
  ]
}