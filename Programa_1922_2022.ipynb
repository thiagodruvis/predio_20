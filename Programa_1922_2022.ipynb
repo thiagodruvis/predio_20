{
  "nbformat": 4,
  "nbformat_minor": 0,
  "metadata": {
    "colab": {
      "provenance": [],
      "authorship_tag": "ABX9TyMAnmSdKrYelPhy6ZLc5MYx",
      "include_colab_link": true
    },
    "kernelspec": {
      "name": "python3",
      "display_name": "Python 3"
    },
    "language_info": {
      "name": "python"
    }
  },
  "cells": [
    {
      "cell_type": "markdown",
      "metadata": {
        "id": "view-in-github",
        "colab_type": "text"
      },
      "source": [
        "<a href=\"https://colab.research.google.com/github/thiagodruvis/predio_20/blob/main/Programa_1922_2022.ipynb\" target=\"_parent\"><img src=\"https://colab.research.google.com/assets/colab-badge.svg\" alt=\"Open In Colab\"/></a>"
      ]
    },
    {
      "cell_type": "code",
      "execution_count": null,
      "metadata": {
        "colab": {
          "base_uri": "https://localhost:8080/"
        },
        "id": "YKtGoVBlqEk7",
        "outputId": "7c3b53f8-693b-4f39-8eca-aea48f600a38"
      },
      "outputs": [
        {
          "output_type": "stream",
          "name": "stdout",
          "text": [
            "Digite seu nome completo: Thiago D.\n",
            "Digite o ano que você nasceu: 1983\n",
            "O usuário Thiago D. completou ou completara 39 anos de idade em 2022\n"
          ]
        }
      ],
      "source": [
        "# Desenvolva um programa que recebe do usuário nome completo e ano de\n",
        "# nascimento que seja entre 1922 e 2021.\n",
        "\n",
        "# A partir dessas informações, o sistema mostrará o nome do usuário e a\n",
        "# idade que completou, ou completará, no ano atual (2022).\n",
        "\n",
        "# Caso o usuário não digite um número ou apareça um inválido no campo do\n",
        "# ano, o sistema informará o erro e continuará perguntando até que um valor\n",
        "# correto seja preenchido.\n",
        "\n",
        "nome = input('Digite seu nome completo: ')\n",
        "nascimento = int(input('Digite o ano que você nasceu: '))\n",
        "\n",
        "executar = True\n",
        "\n",
        "while(executar == True):\n",
        "  try:\n",
        "    if(nascimento < 1922) or (nascimento > 2021):\n",
        "      print(\"O ano deve ser entre 1922 e 2021\")\n",
        "    else:\n",
        "      idade = 2022 - nascimento\n",
        "      print(\"O usuário\", nome, \"completou ou completara\", idade, \"anos de idade em 2022\")\n",
        "\n",
        "      executar = False\n",
        "  except:\n",
        "    print(\"Para informa o ano, digite apenas números\")\n",
        "\n"
      ]
    },
    {
      "cell_type": "code",
      "source": [],
      "metadata": {
        "id": "axYMwHQptL9k"
      },
      "execution_count": null,
      "outputs": []
    }
  ]
}